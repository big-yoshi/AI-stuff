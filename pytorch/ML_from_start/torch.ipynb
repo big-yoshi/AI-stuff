{
 "cells": [
  {
   "cell_type": "code",
   "execution_count": 1,
   "metadata": {},
   "outputs": [
    {
     "name": "stderr",
     "output_type": "stream",
     "text": [
      "Using TensorFlow backend.\n"
     ]
    }
   ],
   "source": [
    "import torch\n",
    "import numpy as np\n",
    "import torch.nn as nn\n",
    "from keras.utils import to_categorical"
   ]
  },
  {
   "cell_type": "code",
   "execution_count": 2,
   "metadata": {},
   "outputs": [],
   "source": [
    "np.random.seed(0)\n",
    "f = open('data/shakespear.txt','r')\n",
    "text = f.readlines()\n",
    "f.close()"
   ]
  },
  {
   "cell_type": "code",
   "execution_count": 3,
   "metadata": {},
   "outputs": [],
   "source": [
    "characters = tuple(set(text))\n",
    "int2char = dict(enumerate(characters))\n",
    "char2int = {char: index for index, char in int2char.items()}\n",
    "encoded = np.array([char2int[char] for char in text])"
   ]
  },
  {
   "cell_type": "code",
   "execution_count": 4,
   "metadata": {},
   "outputs": [],
   "source": [
    "def get_batches(arr, n_seqs_in_a_batch, n_characters):\n",
    "    '''Create a generator that returns batches of size\n",
    "       n_seqs x n_steps from arr.\n",
    "       \n",
    "       Arguments\n",
    "       ---------\n",
    "       arr: Array you want to make batches from\n",
    "       n_seqs: Batch size, the number of sequences per batch\n",
    "       n_steps: Number of sequence steps per batch\n",
    "    '''\n",
    "    \n",
    "    batch_size = n_seqs_in_a_batch * n_characters\n",
    "    n_batches = len(arr)//batch_size\n",
    "    \n",
    "    # Keep only enough characters to make full batches\n",
    "    arr = arr[:n_batches * batch_size]\n",
    "    # Reshape into n_seqs rows\n",
    "    arr = arr.reshape((n_seqs_in_a_batch, -1))\n",
    "    \n",
    "    for n in range(0, arr.shape[1], n_characters):\n",
    "        # The features\n",
    "        x = arr[:, n:n+n_characters]\n",
    "        # The targets, shifted by one\n",
    "        y = np.zeros_like(x)\n",
    "        try:\n",
    "            y[:, :-1], y[:, -1] = x[:, 1:], arr[:, n+n_characters]\n",
    "        except IndexError:\n",
    "            y[:, :-1], y[:, -1] = x[:, 1:], arr[:, 0]\n",
    "        yield x, y"
   ]
  },
  {
   "cell_type": "code",
   "execution_count": 5,
   "metadata": {},
   "outputs": [],
   "source": [
    "class charLSTM(nn.ModuleList):\n",
    "    def __init__(self, seq_len, vocab_size, hidden_dim, batch_size):\n",
    "        super(charLSTM, self).__init__()\n",
    "        \n",
    "        self.hidden_dim = hidden_dim\n",
    "        self.batch_size = batch_size\n",
    "        self.seq_len = seq_len\n",
    "        self.vocab_size = vocab_size\n",
    "        \n",
    "        self.lstm_1 = nn.LSTMCell(input_size=vocab_size, hidden_size=hidden_dim)\n",
    "        self.lstm_2 = nn.LSTMCell(hidden_dim, hidden_size=hidden_dim)\n",
    "        \n",
    "        self.dropout = nn.Dropout(p=0.5)\n",
    "        self.fc = nn.Linear(hidden_dim, vocab_size)\n",
    "    \n",
    "    def forward(self, x, hc):\n",
    "        output_seq = torch.empty((self.seq_len, self.batch_size,\n",
    "                                 self.vocab_size))\n",
    "        hc_1 , hc_2 = hc, hc\n",
    "        \n",
    "        for t in range(self.seq_len):\n",
    "            hc_1 = self.lstm_1(x[t],hc_1)\n",
    "            h_1,c_1 = hc_1\n",
    "            \n",
    "            hc_2 = self.lstm_2(h_1,hc_2)\n",
    "            h_2, c_2 = hc_2\n",
    "            \n",
    "            output_seq[t] = self.fc(self.dropout(h_2))\n",
    "        return output_seq.view((self.seq_len * self.batch_size, -1))\n",
    "    \n",
    "    def init_hidden(self):\n",
    "        return (torch.zeros(self.batch_size, self.hidden_dim),\n",
    "               torch.zeros(self.batch_size, self.hidden_dim))"
   ]
  },
  {
   "cell_type": "code",
   "execution_count": 6,
   "metadata": {},
   "outputs": [],
   "source": [
    "net = charLSTM(seq_len=128, vocab_size=len(char2int), hidden_dim=512, batch_size=128)\n",
    "optimizer = torch.optim.Adam(net.parameters(), lr=0.001)\n",
    "criterion = nn.CrossEntropyLoss()"
   ]
  },
  {
   "cell_type": "code",
   "execution_count": 9,
   "metadata": {},
   "outputs": [],
   "source": [
    "# get the validation and the training data\n",
    "val_idx = int(len(encoded) * (1 - 0.1))\n",
    "data, val_data = encoded[:val_idx], encoded[val_idx:]\n",
    "\n",
    "# empty list for the validation losses\n",
    "val_losses = list()\n",
    "\n",
    "# empty list for the samples\n",
    "samples = list()\n",
    "\n",
    "for epoch in range(10):\n",
    "    \n",
    "    # reinit the hidden and cell steates\n",
    "    hc = net.init_hidden()\n",
    "    \n",
    "    for i, (x, y) in enumerate(get_batches(data, 128, 128)):\n",
    "        \n",
    "        # get the torch tensors from the one-hot of training data\n",
    "        # also transpose the axis for the training set and the targets\n",
    "        x_train = torch.from_numpy(to_categorical(x, num_classes=net.vocab_size).transpose([1, 0, 2]))\n",
    "        targets = torch.from_numpy(y.T).type(torch.LongTensor)  # tensor of the target\n",
    "        \n",
    "        # zero out the gradients\n",
    "        optimizer.zero_grad()\n",
    "        \n",
    "        # get the output sequence from the input and the initial hidden and cell states\n",
    "        output = net(x_train, hc)\n",
    "    \n",
    "        # calculate the loss\n",
    "        # we need to calculate the loss across all batches, so we have to flat the targets tensor\n",
    "        loss = criterion(output, targets.contiguous().view(128*128))\n",
    "        \n",
    "        # calculate the gradients\n",
    "        loss.backward()\n",
    "        \n",
    "        # update the parameters of the model\n",
    "        optimizer.step()\n",
    "    \n",
    "        # feedback every 10 batches\n",
    "        if i % 10 == 0: \n",
    "            \n",
    "            # initialize the validation hidden state and cell state\n",
    "            val_h, val_c = net.init_hidden()\n",
    "            \n",
    "            for val_x, val_y in get_batches(val_data, 128, 128):\n",
    "                \n",
    "                # prepare the validation inputs and targets\n",
    "                val_x = torch.from_numpy(to_categorical(val_x).transpose([1, 0, 2]))\n",
    "                val_y = torch.from_numpy(val_y.T).type(torch.LongTensor).contiguous().view(128*128)\n",
    "            \n",
    "                # get the validation output\n",
    "                val_output = net(val_x, (val_h, val_c))\n",
    "                \n",
    "                # get the validation loss\n",
    "                val_loss = criterion(val_output, val_y)\n",
    "                \n",
    "                # append the validation loss\n",
    "                val_losses.append(val_loss.item())\n",
    "                \n",
    "                # sample 256 chars\n",
    "                samples.append(''.join([int2char[int_] for int_ in net.predict(\"A\", seq_len=1024)]))\n",
    "                \n",
    "            print(\"Epoch: {}, Batch: {}, Train Loss: {:.6f}, Validation Loss: {:.6f}\".format(epoch, i, loss.item(), val_loss.item()))"
   ]
  },
  {
   "cell_type": "code",
   "execution_count": null,
   "metadata": {},
   "outputs": [],
   "source": []
  }
 ],
 "metadata": {
  "kernelspec": {
   "display_name": "Python 3",
   "language": "python",
   "name": "python3"
  },
  "language_info": {
   "codemirror_mode": {
    "name": "ipython",
    "version": 3
   },
   "file_extension": ".py",
   "mimetype": "text/x-python",
   "name": "python",
   "nbconvert_exporter": "python",
   "pygments_lexer": "ipython3",
   "version": "3.6.7"
  }
 },
 "nbformat": 4,
 "nbformat_minor": 2
}
