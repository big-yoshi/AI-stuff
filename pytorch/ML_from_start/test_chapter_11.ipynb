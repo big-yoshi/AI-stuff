{
 "cells": [
  {
   "cell_type": "code",
   "execution_count": 23,
   "metadata": {},
   "outputs": [],
   "source": [
    "import sys"
   ]
  },
  {
   "cell_type": "code",
   "execution_count": 2,
   "metadata": {},
   "outputs": [],
   "source": [
    "f = open('reviews.txt')\n",
    "raw_reviews = f.readlines()\n",
    "f.close()\n",
    "\n",
    "f = open(\"labels.txt\")\n",
    "raw_labels = f.readlines()\n",
    "f.close()"
   ]
  },
  {
   "cell_type": "code",
   "execution_count": 3,
   "metadata": {},
   "outputs": [],
   "source": [
    "tokens = list(map(lambda x:set(x.split(\" \")),raw_reviews))\n",
    "\n",
    "# or \n",
    "#def test(x):\n",
    "#    return set(x.split(\" \"))\n",
    "\n",
    "#xx = list(map(test,raw_reviews))\n",
    "\n",
    "#for review in raw_reviews:\n",
    "#    review = set(review.split(\" \"))\n",
    "#    tokens.append(review)"
   ]
  },
  {
   "cell_type": "code",
   "execution_count": 4,
   "metadata": {},
   "outputs": [],
   "source": [
    "vocab = set()\n",
    "for sentence in tokens:\n",
    "    for word in sentence:\n",
    "        if(len(word) > 0):\n",
    "            vocab.add(word)\n",
    "vocab = list(vocab)\n",
    "# the vocab is just words"
   ]
  },
  {
   "cell_type": "code",
   "execution_count": 5,
   "metadata": {},
   "outputs": [
    {
     "data": {
      "text/plain": [
       "74074"
      ]
     },
     "execution_count": 5,
     "metadata": {},
     "output_type": "execute_result"
    }
   ],
   "source": [
    "len(vocab)"
   ]
  },
  {
   "cell_type": "code",
   "execution_count": 6,
   "metadata": {},
   "outputs": [],
   "source": [
    "word2index = {}\n",
    "index2word = {}\n",
    "for i,word in enumerate(vocab):\n",
    "    word2index[word] = i\n",
    "    index2word[i] = word"
   ]
  },
  {
   "cell_type": "code",
   "execution_count": 7,
   "metadata": {},
   "outputs": [],
   "source": [
    "input_dataset = list()\n",
    "for sentence in tokens:\n",
    "    sent_indices = list()\n",
    "    for word in sentence:\n",
    "        try:\n",
    "            sent_indices.append(word2index[word])\n",
    "        except:\n",
    "            \"\"\n",
    "    input_dataset.append(list(set(sent_indices)))"
   ]
  },
  {
   "cell_type": "code",
   "execution_count": 8,
   "metadata": {},
   "outputs": [],
   "source": [
    "target_dataset = list()\n",
    "for label in raw_labels:\n",
    "    if label == \"positive\\n\":\n",
    "        target_dataset.append(1)\n",
    "    else:\n",
    "        target_dataset.append(0)"
   ]
  },
  {
   "cell_type": "code",
   "execution_count": 9,
   "metadata": {},
   "outputs": [],
   "source": [
    "import numpy as np\n",
    "import time\n",
    "np.random.seed(1)"
   ]
  },
  {
   "cell_type": "code",
   "execution_count": 10,
   "metadata": {},
   "outputs": [],
   "source": [
    "def sigmoid(x):\n",
    "    return 1/(1 + np.exp(-x))\n",
    "\n",
    "\n",
    "alpha, iterations = (0.01, 10)\n",
    "hidden_size = 100"
   ]
  },
  {
   "cell_type": "markdown",
   "metadata": {},
   "source": [
    "# test vocab"
   ]
  },
  {
   "cell_type": "code",
   "execution_count": 11,
   "metadata": {},
   "outputs": [
    {
     "name": "stdout",
     "output_type": "stream",
     "text": [
      "(74074, 100)\n",
      "(100, 1)\n"
     ]
    }
   ],
   "source": [
    "weights_0_1 = 0.2 * np.random.random((len(vocab),hidden_size)) - 0.1\n",
    "weights_1_2 = 0.2 * np.random.random((hidden_size,1)) -0.1\n",
    "\n",
    "print(weights_0_1.shape)\n",
    "print(weights_1_2.shape)"
   ]
  },
  {
   "cell_type": "code",
   "execution_count": 12,
   "metadata": {},
   "outputs": [
    {
     "name": "stdout",
     "output_type": "stream",
     "text": [
      "Iter:0 Progress:95.99% Training Accuracy:0.8315416666666666%%\n",
      "Iter:1 Progress:95.99% Training Accuracy:0.8658958333333333%\n",
      "Iter:2 Progress:95.99% Training Accuracy:0.8840416666666666%\n",
      "Iter:3 Progress:95.99% Training Accuracy:0.8972916666666667%\n",
      "Iter:4 Progress:95.99% Training Accuracy:0.9074666666666666%\n",
      "Iter:5 Progress:95.99% Training Accuracy:0.9158263888888889%\n",
      "Iter:6 Progress:95.99% Training Accuracy:0.9229940476190476%\n",
      "Iter:7 Progress:95.99% Training Accuracy:0.9293177083333334%\n",
      "Iter:8 Progress:95.99% Training Accuracy:0.9349907407407407%\n",
      "Iter:9 Progress:95.99% Training Accuracy:0.940075%030209592%\n",
      "DONE:  92.77481365203857  seconds\n"
     ]
    }
   ],
   "source": [
    "correct, total = (0,0)\n",
    "\n",
    "start_time = time.time()\n",
    "\n",
    "for iter in range(iterations):\n",
    "    for i in range(len(input_dataset) - 1000):\n",
    "        \n",
    "        x,y = (input_dataset[i],target_dataset[i])\n",
    "        \n",
    "        layer_1 = sigmoid(np.sum(weights_0_1[x],axis=0))\n",
    "        layer_2 = sigmoid(np.dot(layer_1,weights_1_2))\n",
    "        \n",
    "        layer_2_delta = layer_2 - y\n",
    "        layer_1_delta = layer_2_delta.dot(weights_1_2.T)\n",
    "        \n",
    "        weights_0_1[x] -= layer_1_delta * alpha\n",
    "        weights_1_2 -= np.outer(layer_1,layer_2_delta) * alpha\n",
    "        \n",
    "        if(np.abs(layer_2_delta) < 0.5): # we are only targeting for NEG anything is near 0 is NEG\n",
    "            # remember sigmoid only returns one label in our case is [0,1][NEG,POS]\n",
    "            correct +=1\n",
    "        total +=1\n",
    "        \n",
    "        if(i % 10 == 9):\n",
    "            progress = str(i/float(len(input_dataset)))\n",
    "            sys.stdout.write(\"\\rIter:\"+str(iter)\\\n",
    "                            +\" Progress:\"+progress[2:4] \\\n",
    "                            +'.'+progress[4:6]\\\n",
    "                            +\"% Training Accuracy:\"\\\n",
    "                            + str(correct/float(total)) + \"%\")\n",
    "    print(\"\")\n",
    "print(\"DONE: \",time.time()-start_time,\" seconds\")"
   ]
  },
  {
   "cell_type": "code",
   "execution_count": 13,
   "metadata": {},
   "outputs": [
    {
     "data": {
      "text/plain": [
       "array([ 1,  2,  3,  4,  5,  6,  7,  8,  9, 10, 11])"
      ]
     },
     "execution_count": 13,
     "metadata": {},
     "output_type": "execute_result"
    }
   ],
   "source": [
    "x = np.array([0,1,2,3,4,5,6,7,8,9,10])\n",
    "y = np.array([1,2,3,4,5,6,7,8,9,10,11,12,13])\n",
    "\n",
    "y[x]"
   ]
  },
  {
   "cell_type": "code",
   "execution_count": 14,
   "metadata": {},
   "outputs": [
    {
     "name": "stdout",
     "output_type": "stream",
     "text": [
      "Test Acc:0.835\n",
      "Test took:  0.26628732681274414  seconds\n"
     ]
    }
   ],
   "source": [
    "correct,total = (0,0)\n",
    "start_time = time.time()\n",
    "for i in range(len(input_dataset)-1000, len(input_dataset)):\n",
    "    x,y = (input_dataset[i], target_dataset[i])\n",
    "    \n",
    "    layer_1 = sigmoid(np.sum(weights_0_1[x],axis=0))\n",
    "    layer_2 = sigmoid(np.dot(layer_1,weights_1_2))\n",
    "    \n",
    "    if (np.abs(layer_2-y) < 0.5):\n",
    "        correct +=1\n",
    "    #else:\n",
    "        #print(np.abs(layer_2-y))\n",
    "        #print(x)\n",
    "        sent_word = []\n",
    "        #for words in x:\n",
    "            #sent_word.append(index2word[words])\n",
    "        #print(sent_word)\n",
    "        \n",
    "    total +=1\n",
    "    \n",
    "print(\"Test Acc:\"+str(correct/float(total)))\n",
    "print(\"Test took: \",time.time()-start_time,\" seconds\")"
   ]
  },
  {
   "cell_type": "code",
   "execution_count": null,
   "metadata": {},
   "outputs": [],
   "source": []
  },
  {
   "cell_type": "code",
   "execution_count": 15,
   "metadata": {},
   "outputs": [],
   "source": [
    "from collections import Counter\n",
    "import math"
   ]
  },
  {
   "cell_type": "code",
   "execution_count": 2,
   "metadata": {},
   "outputs": [],
   "source": [
    "def similar(target=\"beautiful\"):\n",
    "    target_index = word2index[target]\n",
    "    scores = Counter()\n",
    "    for word, index in word2index.items():\n",
    "        raw_differenece = weights_0_1[index] - (weights_0_1[target_index])\n",
    "        squared_difference = raw_differenece * raw_differenece\n",
    "        scores[word] = -math.sqrt(sum(squared_difference))\n",
    "    return scores.most_common(10)"
   ]
  },
  {
   "cell_type": "code",
   "execution_count": 18,
   "metadata": {},
   "outputs": [
    {
     "data": {
      "text/plain": [
       "[('best', -0.0),\n",
       " ('cry', -0.7256825122909031),\n",
       " ('sixties', -0.7386168825350984),\n",
       " ('rule', -0.741802668068826),\n",
       " ('fever', -0.7436934215771109),\n",
       " ('expressions', -0.7524943933825698),\n",
       " ('columbine', -0.7557919424609318),\n",
       " ('cb', -0.7566002488482337),\n",
       " ('energetic', -0.760822806053922),\n",
       " ('contrast', -0.761974052904571)]"
      ]
     },
     "execution_count": 18,
     "metadata": {},
     "output_type": "execute_result"
    }
   ],
   "source": [
    "similar('best')"
   ]
  },
  {
   "cell_type": "markdown",
   "metadata": {},
   "source": [
    "# fill in blank"
   ]
  },
  {
   "cell_type": "code",
   "execution_count": 1,
   "metadata": {},
   "outputs": [],
   "source": [
    "import random\n",
    "import sys\n",
    "import numpy as np\n",
    "from collections import Counter\n",
    "np.random.seed(1)\n",
    "import math\n",
    "random.seed(1)"
   ]
  },
  {
   "cell_type": "code",
   "execution_count": 2,
   "metadata": {},
   "outputs": [],
   "source": [
    "f = open('reviews.txt')\n",
    "raw_reviews = f.readlines()\n",
    "f.close()"
   ]
  },
  {
   "cell_type": "code",
   "execution_count": 3,
   "metadata": {},
   "outputs": [],
   "source": [
    "tokens = list(map(lambda x:(x.split(\" \")),raw_reviews))\n",
    "wordcnt = Counter()"
   ]
  },
  {
   "cell_type": "code",
   "execution_count": 4,
   "metadata": {},
   "outputs": [],
   "source": [
    "for sent in tokens:\n",
    "    for word in sent:\n",
    "        wordcnt[word] -=1\n",
    "vocab = list(set(map(lambda x:x[0], wordcnt.most_common())))"
   ]
  },
  {
   "cell_type": "code",
   "execution_count": 5,
   "metadata": {},
   "outputs": [],
   "source": [
    "word2index = {}\n",
    "\n",
    "for i,word in enumerate(vocab):\n",
    "    word2index[word] = i    "
   ]
  },
  {
   "cell_type": "code",
   "execution_count": 6,
   "metadata": {},
   "outputs": [],
   "source": [
    "concatenated = list()\n",
    "input_dataset = list()\n",
    "\n",
    "for sent in tokens:\n",
    "    sent_indices = list()\n",
    "    for word in sent:\n",
    "        try:\n",
    "            sent_indices.append(word2index[word])\n",
    "            concatenated.append(word2index[word])\n",
    "        except:\n",
    "            \"\"\n",
    "    input_dataset.append(sent_indices)\n",
    "concatenated = np.array(concatenated)\n",
    "\n",
    "random.shuffle(input_dataset)"
   ]
  },
  {
   "cell_type": "code",
   "execution_count": 7,
   "metadata": {},
   "outputs": [
    {
     "data": {
      "text/plain": [
       "7459318"
      ]
     },
     "execution_count": 7,
     "metadata": {},
     "output_type": "execute_result"
    }
   ],
   "source": [
    "len(concatenated)"
   ]
  },
  {
   "cell_type": "code",
   "execution_count": 8,
   "metadata": {},
   "outputs": [],
   "source": [
    "alpha, iterations = (0.05, 2)\n",
    "hidden_size, window, negative = (50,3,5)\n",
    "\n",
    "# the 5 is for negative sampling six words removes one 5 remains \n",
    "\n",
    "weights_0_1 = (np.random.rand(len(vocab),hidden_size) - 0.5) * 0.2\n",
    "weights_1_2 = np.random.rand(len(vocab),hidden_size) * 0"
   ]
  },
  {
   "cell_type": "code",
   "execution_count": 9,
   "metadata": {},
   "outputs": [],
   "source": [
    "layer_2_target = np.zeros(negative + 1)\n",
    "layer_2_target[0] = 1"
   ]
  },
  {
   "cell_type": "code",
   "execution_count": 10,
   "metadata": {},
   "outputs": [],
   "source": [
    "def similar(target=\"beautiful\"):\n",
    "    target_index = word2index[target]\n",
    "    scores = Counter()\n",
    "    \n",
    "    for word,index in word2index.items():\n",
    "        raw_differenece = weights_0_1[index] - (weights_0_1[target_index])\n",
    "        squared_difference = raw_differenece * raw_differenece\n",
    "        scores[word] = -math.sqrt(sum(squared_difference))\n",
    "    return scores.most_common(10)"
   ]
  },
  {
   "cell_type": "code",
   "execution_count": 11,
   "metadata": {},
   "outputs": [],
   "source": [
    "def sigmoid(x):\n",
    "    return 1/(1+np.exp(-x))"
   ]
  },
  {
   "cell_type": "code",
   "execution_count": 12,
   "metadata": {},
   "outputs": [
    {
     "name": "stdout",
     "output_type": "stream",
     "text": [
      "Progress:0.99998 [('terrible', -0.0), ('horrible', -4.580052125015765), ('brilliant', -4.707014959228188), ('pathetic', -4.935225742906431), ('fantastic', -5.204615310376495), ('marvelous', -5.219520020225393), ('bad', -5.307147113307617), ('dreadful', -5.345749368099789), ('lousy', -5.353383335854187), ('remarkable', -5.377272808568338)]145)]]0906)]854)][('terrible', -0.0), ('horrible', -4.3843805721269975), ('brilliant', -4.949278670212796), ('bad', -5.121799003280398), ('pathetic', -5.129414793143894), ('lousy', -5.372828029238985), ('dreadful', -5.4468148398323635), ('marvelous', -5.468793923687044), ('remarkable', -5.570266412630283), ('mediocre', -5.600927031848216)]\n"
     ]
    }
   ],
   "source": [
    "i = 0\n",
    "for rev_i, review in enumerate(input_dataset * iterations):\n",
    "    #print(\"-\"*50)\n",
    "    #print(rev_i)\n",
    "    for target_i in range(len(review)):\n",
    "        \n",
    "        \n",
    "        target_samples = [review[target_i]] + list(concatenated\\\n",
    "                                                   [(np.random.rand(negative) * len(concatenated)).astype('int').tolist()])\n",
    "       \n",
    "    \n",
    "        left_context = review[max(0,target_i-window):target_i]\n",
    "        right_context = review[target_i+1:min(len(review),target_i+window)]\n",
    "        \n",
    "        \n",
    "        #print(\"-\"*50)\n",
    "        #print(\"L:\",left_context,\" INDEX: \",max(0,target_i-window),\"::\",target_i)\n",
    "        #print(\"R:\",right_context, \"INDEX: \",target_i+1,\"::\",min(len(review),target_i+window))\n",
    "        \n",
    "        layer_1 = np.mean(weights_0_1[left_context+right_context],axis=0)\n",
    "        layer_2 = sigmoid(layer_1.dot(weights_1_2[target_samples].T))\n",
    "        \n",
    "        layer_2_delta = layer_2 - layer_2_target\n",
    "        layer_1_delta = layer_2_delta.dot(weights_1_2[target_samples])\n",
    "        \n",
    "        weights_0_1[left_context + right_context] -= layer_1_delta * alpha\n",
    "        weights_1_2[target_samples] -= np.outer(layer_2_delta,layer_1) * alpha\n",
    "    \n",
    "    if(rev_i % 250 ==0):\n",
    "        sys.stdout.write('\\rProgress:'+str(rev_i/float(len(input_dataset)\n",
    "            *iterations)) + \"   \" + str(similar('terrible')))\n",
    "    sys.stdout.write('\\rProgress:'+str(rev_i/float(len(input_dataset)\n",
    "        *iterations)))\n",
    "print(similar('terrible'))"
   ]
  },
  {
   "cell_type": "code",
   "execution_count": 13,
   "metadata": {},
   "outputs": [
    {
     "name": "stdout",
     "output_type": "stream",
     "text": [
      "[('terrible', -0.0), ('horrible', -4.3843805721269975), ('brilliant', -4.949278670212796), ('bad', -5.121799003280398), ('pathetic', -5.129414793143894), ('lousy', -5.372828029238985), ('dreadful', -5.4468148398323635), ('marvelous', -5.468793923687044), ('remarkable', -5.570266412630283), ('mediocre', -5.600927031848216)]\n"
     ]
    }
   ],
   "source": [
    "print(similar('terrible'))"
   ]
  },
  {
   "cell_type": "code",
   "execution_count": 16,
   "metadata": {},
   "outputs": [],
   "source": [
    "def analogy(positive=['terrible','good'], negative=['bad']):\n",
    "    norms = np.sum(weights_0_1 * weights_0_1,axis=1)\n",
    "    norms.resize(norms.shape[0],1)\n",
    "    normed_weights = weights_0_1 * norms\n",
    "    query_vect = np.zeros(len(weights_0_1[0]))\n",
    "    \n",
    "    for word in positive:\n",
    "        query_vect += normed_weights[word2index[word]]\n",
    "    for word in negative:\n",
    "        query_vect -= normed_weights[word2index[word]]\n",
    "    \n",
    "    scores = Counter()\n",
    "    for word, index in word2index.items():\n",
    "        raw_difference = weights_0_1[index] - query_vect\n",
    "        squared_difference = raw_difference * raw_difference\n",
    "        scores[word] = -math.sqrt(sum(squared_difference))\n",
    "    return scores.most_common(10)[1:]\n",
    "    "
   ]
  },
  {
   "cell_type": "code",
   "execution_count": 18,
   "metadata": {},
   "outputs": [
    {
     "data": {
      "text/plain": [
       "[('superb', -399.544790747415),\n",
       " ('nice', -399.79417955982973),\n",
       " ('perfect', -399.848305619875),\n",
       " ('fine', -399.9527703380172),\n",
       " ('great', -400.2069702613134),\n",
       " ('solid', -400.38308684476567),\n",
       " ('decent', -400.3948964892706),\n",
       " ('limited', -400.4099071858375),\n",
       " ('terrible', -400.53290829492676)]"
      ]
     },
     "execution_count": 18,
     "metadata": {},
     "output_type": "execute_result"
    }
   ],
   "source": [
    "analogy(['terrible','good'],['bad'])"
   ]
  },
  {
   "cell_type": "code",
   "execution_count": 31,
   "metadata": {},
   "outputs": [
    {
     "data": {
      "text/plain": [
       "[('allen', -321.99842325630004),\n",
       " ('fred', -322.17980396516015),\n",
       " ('brian', -322.27220933016065),\n",
       " ('john', -322.32048774625423),\n",
       " ('morgan', -322.51835834233833),\n",
       " ('smith', -322.60271100207007),\n",
       " ('glenn', -322.60417461397964),\n",
       " ('laurel', -322.6131991568636),\n",
       " ('elizabeth', -322.70200124078)]"
      ]
     },
     "execution_count": 31,
     "metadata": {},
     "output_type": "execute_result"
    }
   ],
   "source": [
    "analogy(['elizabeth','he'],['she'])"
   ]
  },
  {
   "cell_type": "code",
   "execution_count": 32,
   "metadata": {},
   "outputs": [
    {
     "data": {
      "text/plain": [
       "[('j', -576.1628630899065),\n",
       " ('dr', -576.1831012053653),\n",
       " ('smith', -576.4603420725058),\n",
       " ('ms', -576.51740999599),\n",
       " ('mr', -576.8740918910538),\n",
       " ('br', -577.4360748035441),\n",
       " ('p', -577.4789729506316),\n",
       " ('mrs', -577.5421953642326),\n",
       " ('l', -577.5973639681565)]"
      ]
     },
     "execution_count": 32,
     "metadata": {},
     "output_type": "execute_result"
    }
   ],
   "source": [
    "analogy(['smith','she'],['he'])"
   ]
  }
 ],
 "metadata": {
  "kernelspec": {
   "display_name": "Python 3",
   "language": "python",
   "name": "python3"
  },
  "language_info": {
   "codemirror_mode": {
    "name": "ipython",
    "version": 3
   },
   "file_extension": ".py",
   "mimetype": "text/x-python",
   "name": "python",
   "nbconvert_exporter": "python",
   "pygments_lexer": "ipython3",
   "version": "3.6.7"
  }
 },
 "nbformat": 4,
 "nbformat_minor": 2
}
