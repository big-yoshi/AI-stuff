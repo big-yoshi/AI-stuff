{
 "cells": [
  {
   "cell_type": "code",
   "execution_count": 2,
   "metadata": {},
   "outputs": [
    {
     "data": {
      "text/plain": [
       "<torch._C.Generator at 0x2a5c7a661f0>"
      ]
     },
     "execution_count": 2,
     "metadata": {},
     "output_type": "execute_result"
    }
   ],
   "source": [
    "import torch\n",
    "\n",
    "torch.manual_seed(1234)\n"
   ]
  },
  {
   "cell_type": "code",
   "execution_count": 3,
   "metadata": {},
   "outputs": [
    {
     "data": {
      "text/plain": [
       "tensor([[-0.1117, -0.4966,  0.1631, -0.8817],\n",
       "        [ 0.0539,  0.6684, -0.0597, -0.4675],\n",
       "        [-0.2153,  0.8840, -0.7584, -0.3689],\n",
       "        [-0.3424, -1.4020,  0.3206, -1.0219]])"
      ]
     },
     "execution_count": 3,
     "metadata": {},
     "output_type": "execute_result"
    }
   ],
   "source": [
    "torch.randn(4,4)"
   ]
  },
  {
   "cell_type": "code",
   "execution_count": 4,
   "metadata": {},
   "outputs": [
    {
     "data": {
      "text/plain": [
       "tensor([[0.2837, 0.6567, 0.2388, 0.7313],\n",
       "        [0.6012, 0.3043, 0.2548, 0.6294],\n",
       "        [0.9665, 0.7399, 0.4517, 0.4757],\n",
       "        [0.7842, 0.1525, 0.6662, 0.3343]])"
      ]
     },
     "execution_count": 4,
     "metadata": {},
     "output_type": "execute_result"
    }
   ],
   "source": [
    "torch.Tensor(4,4).uniform_(0,1)"
   ]
  },
  {
   "cell_type": "code",
   "execution_count": 5,
   "metadata": {},
   "outputs": [
    {
     "data": {
      "text/plain": [
       "tensor([ 0.7389,  2.5494,  2.9921,  2.9869,  4.8777,  6.4369,  6.7274,  8.1902,\n",
       "         9.0384, 10.0092])"
      ]
     },
     "execution_count": 5,
     "metadata": {},
     "output_type": "execute_result"
    }
   ],
   "source": [
    "torch.normal(mean=torch.arange(1.,11.),\n",
    "            std=torch.arange(1,0,-0.1))"
   ]
  },
  {
   "cell_type": "code",
   "execution_count": 6,
   "metadata": {},
   "outputs": [
    {
     "data": {
      "text/plain": [
       "tensor([0.3275])"
      ]
     },
     "execution_count": 6,
     "metadata": {},
     "output_type": "execute_result"
    }
   ],
   "source": [
    "torch.normal(mean=0.5,std=torch.arange(0.2, 0.6))"
   ]
  },
  {
   "cell_type": "code",
   "execution_count": 7,
   "metadata": {},
   "outputs": [],
   "source": [
    "from torch.autograd import Variable"
   ]
  },
  {
   "cell_type": "code",
   "execution_count": 8,
   "metadata": {},
   "outputs": [
    {
     "data": {
      "text/plain": [
       "tensor([[1., 1.],\n",
       "        [1., 1.]], requires_grad=True)"
      ]
     },
     "execution_count": 8,
     "metadata": {},
     "output_type": "execute_result"
    }
   ],
   "source": [
    "Variable(torch.ones(2,2),requires_grad =True)"
   ]
  },
  {
   "cell_type": "code",
   "execution_count": 9,
   "metadata": {},
   "outputs": [
    {
     "name": "stdout",
     "output_type": "stream",
     "text": [
      "tensor([[-2.8333e-01, -5.6595e-01,  3.5662e-01, -4.5349e-01, -2.9714e-01,\n",
      "         -1.5380e+00, -1.0248e+00, -3.7806e-01,  3.9102e-01,  5.1579e-01,\n",
      "         -1.0042e+00,  9.8596e-01,  1.1334e+00,  8.5042e-01,  1.0534e+00,\n",
      "          3.6918e-01, -5.5194e-02, -6.1254e-01,  7.5001e-01, -7.3459e-01,\n",
      "          4.6223e-01,  1.1759e+00,  2.1447e-01],\n",
      "        [ 5.3620e-01,  1.3649e-01, -2.3332e+00,  1.5308e+00,  2.6799e-01,\n",
      "          4.5048e-01, -2.7250e-01, -1.7399e+00,  1.2993e-01, -5.6299e-01,\n",
      "         -2.8294e-01,  7.3103e-02, -1.3880e+00, -2.6779e-01, -1.2537e-01,\n",
      "         -1.5038e+00, -3.2867e-01,  4.3601e-01, -1.4770e+00, -1.2222e+00,\n",
      "         -2.7464e-01, -3.4499e-01, -7.1620e-01],\n",
      "        [ 5.7811e-01,  3.8052e-01, -1.4538e+00, -2.6740e+00,  1.5984e+00,\n",
      "          8.0214e-01, -3.5115e-01, -6.7004e-02, -5.3376e-02, -8.3154e-01,\n",
      "          1.4689e+00,  1.2647e+00, -2.7527e-01, -1.3254e-01,  1.0621e-01,\n",
      "          9.2395e-02, -1.1821e+00,  2.1294e-01,  1.5495e-01, -6.5262e-01,\n",
      "          7.1796e-01, -4.4951e-01, -7.1861e-01],\n",
      "        [ 6.8393e-01, -3.4576e-01,  1.8576e-01, -1.5836e-01,  1.3226e+00,\n",
      "         -2.6796e+00, -1.2967e-01, -6.9196e-01,  1.1864e+00,  2.7447e-01,\n",
      "         -3.3877e-01, -1.2249e-01,  8.0783e-01, -1.1421e+00,  2.0506e+00,\n",
      "         -1.5231e-01, -7.3812e-01, -7.1888e-01,  7.9375e-01, -1.6121e+00,\n",
      "          4.7516e-01,  5.8680e-01, -2.8776e-01],\n",
      "        [-3.2342e-01,  1.7023e+00,  5.8647e-01, -6.2121e-01,  8.5619e-01,\n",
      "         -3.6345e-01, -1.5518e-01, -1.2282e+00,  1.2445e+00,  1.1750e+00,\n",
      "          9.7156e-01,  7.7382e-01, -1.2658e+00, -1.8761e+00, -6.0664e-01,\n",
      "          7.4703e-01,  4.8108e-01,  6.2343e-01,  2.3916e+00,  1.5493e+00,\n",
      "          1.6573e-01,  3.1583e-01,  2.4915e-01],\n",
      "        [-4.9784e-01,  2.9079e+00,  1.6201e+00, -1.6309e+00, -2.0470e-02,\n",
      "          1.6222e+00,  1.4239e+00,  9.0691e-01,  7.6310e-02,  1.1225e+00,\n",
      "         -1.2433e+00, -1.3209e-01, -3.2501e+00, -6.6589e-01, -7.3347e-01,\n",
      "         -2.7599e-01,  5.5485e-01, -1.9303e+00, -7.6389e-01, -1.0121e+00,\n",
      "          4.6090e-01,  2.5969e-01,  8.0760e-01],\n",
      "        [-1.2618e+00, -7.7109e-01, -1.8497e+00,  2.2400e-01,  1.0514e+00,\n",
      "         -3.7156e-01, -2.5581e-02, -1.9850e+00, -3.7880e-01, -1.5030e+00,\n",
      "         -2.9808e+00,  5.1149e-01,  1.7114e+00,  1.4621e+00,  9.8052e-01,\n",
      "         -7.4463e-02, -7.1181e-01,  1.6136e+00, -1.8821e+00, -1.8542e+00,\n",
      "          4.0218e-01,  4.2378e-01,  2.0778e-01],\n",
      "        [ 1.1879e+00, -7.3204e-01,  1.3668e+00,  9.4616e-01,  6.1018e-01,\n",
      "         -6.2540e-01,  1.8678e+00,  6.3652e-01, -4.8517e-01, -7.1437e-01,\n",
      "         -6.0011e-02,  2.5377e-01,  8.2522e-02, -1.1314e+00,  3.9972e-01,\n",
      "          4.2977e-01,  8.2052e-01, -1.4562e+00,  3.0134e-01, -1.9370e+00,\n",
      "         -2.9235e-03, -1.5071e+00, -6.8029e-01],\n",
      "        [ 6.6866e-02,  1.4607e+00,  7.7117e-01,  1.2076e-03,  4.2106e-01,\n",
      "          1.0153e+00,  1.3520e+00,  3.0389e-04,  1.9696e-01, -1.4355e-01,\n",
      "          1.4660e+00, -1.0422e-01, -1.3760e-01,  3.7740e-01,  4.6638e-01,\n",
      "         -1.0877e+00, -1.2096e+00,  3.6486e-02,  8.2569e-01, -6.4759e-01,\n",
      "         -1.8021e+00,  2.4911e+00,  7.7018e-01],\n",
      "        [ 6.6428e-01, -9.1563e-01,  7.1281e-01,  1.1037e+00, -7.1190e-01,\n",
      "         -2.2254e-01,  3.5406e-01, -8.5537e-01,  1.4224e+00, -9.9216e-01,\n",
      "         -2.4422e-01, -3.4747e-01, -4.0146e-01,  8.2387e-01, -1.0022e+00,\n",
      "          9.3890e-02, -1.5120e+00, -2.9630e-01, -2.3561e+00,  1.1116e-02,\n",
      "         -5.8723e-01, -6.1191e-01,  7.4930e-01],\n",
      "        [-1.2565e+00, -1.0455e+00, -9.5469e-01,  3.8564e-01,  1.2921e+00,\n",
      "          8.0012e-01,  8.6142e-02, -1.8761e+00,  2.9369e-01,  1.0688e+00,\n",
      "         -1.0058e+00,  3.7973e-01, -2.9853e-01, -1.3616e+00, -3.3329e-01,\n",
      "         -1.2527e+00, -9.7459e-01, -1.5467e+00,  3.4618e-01, -1.2652e+00,\n",
      "         -2.1208e+00,  1.5305e+00, -1.0777e+00],\n",
      "        [-3.1854e-01,  2.2770e+00,  3.8901e-01, -1.5684e+00,  1.3443e+00,\n",
      "          3.7181e-02, -3.5979e-01,  1.0827e+00, -1.0121e+00, -2.6416e-01,\n",
      "          2.5601e-01, -6.6920e-01, -2.3203e+00,  5.0214e-01, -1.2457e-01,\n",
      "         -6.5603e-01, -7.0487e-01, -1.1843e+00, -2.6453e-01, -2.7675e+00,\n",
      "          1.4802e+00,  2.9421e-01,  1.3924e+00]], requires_grad=True)\n",
      "tensor([[-4.9104e-01, -9.8583e-01, -5.3747e-01, -1.7054e+00, -1.2253e+00,\n",
      "         -6.6654e-01, -5.0896e-01, -5.1929e-01,  4.5932e-01, -6.7476e-01,\n",
      "         -1.6342e-01, -7.0256e-01,  5.6900e-01,  4.7147e-01,  4.6161e-01,\n",
      "         -1.3822e+00,  6.2405e-01,  9.3639e-01,  7.7067e-01, -1.2546e-01,\n",
      "         -4.4566e-02, -2.7053e-01,  1.1501e+00],\n",
      "        [ 1.4566e+00, -4.1707e-02,  7.4626e-01,  3.3223e-01, -1.8590e-01,\n",
      "         -1.4301e+00, -1.4317e+00,  2.1155e+00, -1.1853e+00, -3.6501e-01,\n",
      "          4.9274e-01, -5.8660e-01,  7.9480e-01, -5.3449e-01,  2.2011e+00,\n",
      "         -1.2147e+00, -8.6418e-01, -4.5005e-02,  1.3279e+00, -6.2758e-01,\n",
      "         -3.7389e-01, -2.0552e+00,  7.3843e-01],\n",
      "        [ 9.4542e-01, -1.3522e+00, -3.9723e-01,  4.2088e-01,  1.0047e-01,\n",
      "         -6.5878e-01, -1.3583e+00, -1.8686e-01, -1.3208e+00,  1.4487e+00,\n",
      "         -9.4340e-01, -8.1699e-01,  3.4224e-01, -1.0809e+00, -4.0602e-01,\n",
      "          2.4155e-01,  2.5593e-01, -6.0512e-02, -8.9330e-01, -2.5040e-01,\n",
      "          2.0370e-01, -6.4727e-01, -4.8149e-01],\n",
      "        [-8.5334e-01,  2.3098e-01,  7.5351e-01,  8.0859e-01, -9.1959e-01,\n",
      "         -1.1723e+00,  4.2376e-01,  4.8915e-01, -5.0151e-01,  1.6710e+00,\n",
      "         -8.1815e-01,  9.3772e-01, -4.5470e-01, -3.0167e-01, -1.0814e-01,\n",
      "         -7.8390e-01,  2.1911e+00,  3.5312e-01,  8.0868e-01, -1.2170e-01,\n",
      "          7.7413e-01, -2.4929e+00, -4.7745e-01],\n",
      "        [-5.4338e-01,  1.1363e+00,  7.0601e-01,  5.9375e-01, -9.5948e-02,\n",
      "          9.4557e-01, -1.2708e+00,  2.9587e-01,  1.5027e-01,  1.1833e+00,\n",
      "         -7.2822e-01, -1.2537e+00, -7.3179e-02, -1.4961e-02,  1.4511e-01,\n",
      "          2.0197e-01,  2.7220e-01,  2.9865e-01,  4.7294e-01, -4.7178e-01,\n",
      "         -9.3890e-01,  8.8566e-01,  1.3764e+00],\n",
      "        [-7.8276e-01,  2.2200e-01,  7.3758e-02,  1.0746e+00,  7.8678e-01,\n",
      "          1.1427e+00, -1.0126e+00,  1.1602e-01, -1.0350e+00,  1.0803e+00,\n",
      "         -7.9977e-01, -8.7723e-01, -1.0245e+00, -4.5173e-01, -4.8067e-01,\n",
      "          5.9066e-01,  1.6343e-01, -3.1368e-02,  4.4646e-01,  1.4797e+00,\n",
      "         -1.0431e+00,  1.4661e+00,  6.1199e-01],\n",
      "        [ 7.9935e-01,  9.3007e-01,  1.2819e+00, -6.2896e-01,  7.2717e-01,\n",
      "         -1.4299e+00, -2.1502e+00,  4.1505e-01,  3.1579e-03, -3.8580e-01,\n",
      "          5.7681e-01, -1.1972e+00,  2.6592e-01, -7.0913e-01,  1.1415e+00,\n",
      "         -4.4164e-01,  3.4923e-01, -1.6730e+00,  1.7173e+00, -1.0184e+00,\n",
      "         -2.1019e+00, -1.6981e+00,  1.7331e-01],\n",
      "        [-6.8128e-01,  2.5642e-02,  1.2838e+00,  1.3107e+00,  1.4736e+00,\n",
      "         -2.8513e-01, -3.7260e-01, -1.7115e+00, -8.0051e-01,  1.4921e+00,\n",
      "         -1.0768e-01,  1.8001e+00,  9.7892e-01, -4.6267e-01, -1.4979e+00,\n",
      "          7.5238e-02,  8.3984e-01,  1.3866e+00, -9.5211e-01, -4.9072e-01,\n",
      "         -1.4583e+00,  3.9895e-01,  3.3340e-01],\n",
      "        [ 1.2403e+00,  8.7063e-01, -7.4153e-01,  1.7150e+00,  5.9718e-01,\n",
      "          1.1104e-01,  7.7446e-01, -6.6439e-01, -4.3749e-01, -4.4637e-01,\n",
      "         -7.3716e-01,  6.1647e-02, -2.5027e-01, -1.4518e-01,  1.3390e+00,\n",
      "         -2.4515e+00, -8.0779e-01,  1.6439e+00, -1.2366e+00,  5.9530e-02,\n",
      "         -1.3995e-01,  6.6461e-02, -2.0364e+00],\n",
      "        [-4.9004e-01, -5.2225e-02,  1.0433e+00, -1.7803e-01,  5.4113e-01,\n",
      "          1.5247e+00, -2.2933e-02, -1.1519e+00, -3.0903e-01, -1.1722e+00,\n",
      "         -3.5785e-01,  2.7906e+00, -1.8163e-01,  5.1971e-01, -3.1983e-01,\n",
      "         -6.8210e-01,  2.7064e-01, -2.8758e-01,  1.0301e+00,  7.2947e-01,\n",
      "          1.0306e-01,  2.7964e-01,  1.2181e+00],\n",
      "        [ 1.7274e-01,  2.0686e-01, -1.0222e+00, -1.1600e+00,  7.2069e-01,\n",
      "          1.4963e-01, -8.3145e-01, -1.9167e+00, -3.3779e-01, -8.7321e-01,\n",
      "          2.2254e-02, -1.4754e+00,  4.3352e-01, -2.3785e-01,  3.4293e-01,\n",
      "         -2.3405e+00, -8.8416e-01, -3.7805e-01, -3.9061e-01,  9.7402e-02,\n",
      "          1.0617e+00,  1.2896e+00,  7.8817e-01],\n",
      "        [-1.6625e+00, -7.0641e-01,  4.4782e-01, -1.0987e+00, -5.3510e-01,\n",
      "         -2.0040e-03,  1.0430e+00, -3.6233e-01,  9.7089e-01,  8.8353e-01,\n",
      "         -7.4205e-02, -6.3656e-01, -6.9772e-01,  6.4531e-01, -2.9267e+00,\n",
      "          2.7475e-01, -6.1249e-01, -2.9255e-01, -1.0978e+00,  6.9555e-01,\n"
     ]
    },
    {
     "name": "stdout",
     "output_type": "stream",
     "text": [
      "         -7.7055e-01,  1.2134e+00,  8.0275e-01]], requires_grad=True)\n",
      "tensor([[-0.4904,  0.2571, -0.2913, -0.6594, -1.3994, -0.5482,  0.6185, -1.0135,\n",
      "         -0.6152, -0.4278,  0.2729, -0.5790,  0.0437,  1.0218,  1.0363,  1.2032,\n",
      "         -0.1005, -0.8075,  0.3934, -0.6425,  0.2323,  0.7118,  0.1631],\n",
      "        [-0.9765, -0.2103, -0.9933, -0.2486, -0.6136, -0.8202,  2.1842, -0.4091,\n",
      "         -0.0667,  1.0655,  0.5185, -0.8217, -1.6376, -0.5362, -0.1288,  0.9668,\n",
      "          0.2971,  0.2009, -0.6132, -1.2794, -0.4037,  0.0097, -0.4733],\n",
      "        [ 1.2124, -0.1739, -0.7859, -0.6041, -0.2325,  1.0328, -0.3480,  1.4594,\n",
      "         -0.0560, -1.2836,  0.7126,  1.1081,  0.0047,  0.6673, -0.5581, -0.9543,\n",
      "          0.2181,  2.0906,  0.4160, -1.3930, -0.5809,  1.4967,  1.2538],\n",
      "        [ 1.2667, -0.0936,  0.1063, -0.0317, -0.0646, -1.9279,  1.5847,  0.7670,\n",
      "         -0.9860,  0.5260,  0.8361,  0.0282, -0.9293,  0.0598, -1.8229, -1.8741,\n",
      "          0.2174,  0.8868, -0.4772,  1.1404,  0.6185,  1.5910, -0.1410],\n",
      "        [ 1.4969, -0.9057,  0.3724,  0.0303, -0.7701,  1.0212,  0.7180, -0.1095,\n",
      "         -0.0447,  0.3493,  1.5100,  0.5148,  0.3895, -0.6950, -0.0835, -0.0569,\n",
      "          1.1568, -1.2049,  1.7774,  0.2870,  0.1029, -0.6494, -0.3258],\n",
      "        [ 0.8149,  0.4049,  0.2481,  0.5164,  0.5035, -1.2471,  0.2117,  1.4315,\n",
      "          0.0502, -0.3668,  0.8378, -0.3407,  0.2583, -0.3120,  2.4534,  0.7926,\n",
      "          0.2382, -0.5245, -0.2131,  0.0710,  0.7400,  0.7286,  1.3579],\n",
      "        [ 1.3583, -0.5818, -0.3204, -0.7242, -1.5309,  1.5208,  0.2401, -0.5455,\n",
      "          2.9154, -0.1985,  0.7507, -0.0390,  0.8636,  0.2048,  0.4531, -0.1112,\n",
      "          1.0307, -1.1862, -0.9696,  0.1508, -1.0002, -0.1709, -0.2218],\n",
      "        [ 0.1477, -0.1875,  0.9963,  0.3611,  0.0238, -0.0332,  1.0944, -0.1709,\n",
      "          1.2120,  0.9385,  0.3245, -1.7054,  0.7467, -0.6059,  0.6572,  0.4558,\n",
      "         -1.0911,  0.1566, -1.0629,  0.7770,  0.4003,  0.0439, -0.2973],\n",
      "        [-0.3935, -0.3622, -3.4058, -0.1108, -0.7741,  0.9103,  1.3022,  0.8717,\n",
      "         -0.1985, -1.1560, -0.7709, -0.4655, -0.3847, -0.4364,  0.5410, -1.2138,\n",
      "         -0.8078, -0.4448,  1.4265,  0.2566,  0.4157,  1.7485,  1.5240],\n",
      "        [ 0.6209, -0.1676, -0.6071,  0.0347, -0.9721, -1.6722,  1.7052,  0.8679,\n",
      "         -1.3492, -0.6024, -0.3242, -0.6425, -2.3893, -2.6920, -0.2646,  0.5125,\n",
      "         -0.4189,  0.1360,  2.1896, -0.2159, -0.4342, -0.2216, -0.7294],\n",
      "        [ 1.6985, -0.5637, -2.1429, -0.0135,  0.9174, -1.8431,  0.6344,  0.8557,\n",
      "         -1.7929, -0.8685,  0.0306, -2.3209,  1.9433, -1.7311, -1.2552,  0.4064,\n",
      "         -0.0385,  0.8334, -0.3663, -1.2401, -0.2566, -0.0977,  0.2273],\n",
      "        [-1.5666,  0.9169,  0.3049, -0.8830, -1.5841, -0.3711, -1.2338,  0.7409,\n",
      "          1.1551, -1.6890,  1.2180,  1.3948,  0.2161,  0.0833, -1.0433,  0.3441,\n",
      "          1.5870, -0.8937,  0.0153,  0.2038,  1.3372, -1.5271,  0.2497]],\n",
      "       requires_grad=True)\n"
     ]
    }
   ],
   "source": [
    "a,b = 12,23\n",
    "\n",
    "x1 = Variable(torch.randn(a,b),\n",
    "              requires_grad=True)\n",
    "x2 = Variable(torch.randn(a,b),requires_grad=True)\n",
    "x3 = Variable(torch.randn(a,b),requires_grad=True)\n",
    "print(x1)\n",
    "print(x2)\n",
    "print(x3)"
   ]
  },
  {
   "cell_type": "code",
   "execution_count": 10,
   "metadata": {},
   "outputs": [
    {
     "name": "stdout",
     "output_type": "stream",
     "text": [
      "tensor(3312.4048, grad_fn=<SumBackward0>)\n"
     ]
    }
   ],
   "source": [
    "c = x1 * x2\n",
    "d = a+ x3\n",
    "e = torch.sum(d)\n",
    "e.backward()\n",
    "print(e)"
   ]
  },
  {
   "cell_type": "code",
   "execution_count": 11,
   "metadata": {},
   "outputs": [
    {
     "name": "stdout",
     "output_type": "stream",
     "text": [
      "predict before training 4 tensor(4.)\n"
     ]
    }
   ],
   "source": [
    "x_data = [11.0, 22.0, 33.0]\n",
    "y_data = [21.0, 14.0, 64.0]\n",
    "\n",
    "w = Variable(torch.Tensor([1.0]), requires_grad=True)\n",
    "\n",
    "print(\"predict before training\",4,(4*w).data[0])"
   ]
  },
  {
   "cell_type": "code",
   "execution_count": 12,
   "metadata": {},
   "outputs": [],
   "source": [
    "def forward(x):\n",
    "    return x *w\n",
    "def loss(x,y):\n",
    "    y_pred = forward(x)\n",
    "    return (y_pred-y) * (y_pred-y)\n"
   ]
  },
  {
   "cell_type": "code",
   "execution_count": 13,
   "metadata": {},
   "outputs": [
    {
     "name": "stdout",
     "output_type": "stream",
     "text": [
      "\tGrad:  11.0 21.0 tensor(-220.)\n",
      "\tGrad:  22.0 14.0 tensor(2481.6001)\n",
      "\tGrad:  33.0 64.0 tensor(-51303.6484)\n",
      "Progress: 0 tensor(604238.8125)\n",
      "\tGrad:  11.0 21.0 tensor(118461.7578)\n",
      "\tGrad:  22.0 14.0 tensor(-671630.6875)\n",
      "\tGrad:  33.0 64.0 tensor(13114108.)\n",
      "Progress: 1 tensor(3.9481e+10)\n",
      "\tGrad:  11.0 21.0 tensor(-30279010.)\n",
      "\tGrad:  22.0 14.0 tensor(1.7199e+08)\n",
      "\tGrad:  33.0 64.0 tensor(-3.3589e+09)\n",
      "Progress: 2 tensor(2.5900e+15)\n",
      "\tGrad:  11.0 21.0 tensor(7.7553e+09)\n",
      "\tGrad:  22.0 14.0 tensor(-4.4050e+10)\n",
      "\tGrad:  33.0 64.0 tensor(8.6030e+11)\n",
      "Progress: 3 tensor(1.6991e+20)\n",
      "\tGrad:  11.0 21.0 tensor(-1.9863e+12)\n",
      "\tGrad:  22.0 14.0 tensor(1.1282e+13)\n",
      "\tGrad:  33.0 64.0 tensor(-2.2034e+14)\n",
      "Progress: 4 tensor(1.1146e+25)\n",
      "\tGrad:  11.0 21.0 tensor(5.0875e+14)\n",
      "\tGrad:  22.0 14.0 tensor(-2.8897e+15)\n",
      "\tGrad:  33.0 64.0 tensor(5.6436e+16)\n",
      "Progress: 5 tensor(7.3118e+29)\n",
      "\tGrad:  11.0 21.0 tensor(-1.3030e+17)\n",
      "\tGrad:  22.0 14.0 tensor(7.4013e+17)\n",
      "\tGrad:  33.0 64.0 tensor(-1.4455e+19)\n",
      "Progress: 6 tensor(4.7966e+34)\n",
      "\tGrad:  11.0 21.0 tensor(3.3374e+19)\n",
      "\tGrad:  22.0 14.0 tensor(-1.8957e+20)\n",
      "\tGrad:  33.0 64.0 tensor(3.7022e+21)\n",
      "Progress: 7 tensor(inf)\n",
      "\tGrad:  11.0 21.0 tensor(-8.5480e+21)\n",
      "\tGrad:  22.0 14.0 tensor(4.8553e+22)\n",
      "\tGrad:  33.0 64.0 tensor(-9.4824e+23)\n",
      "Progress: 8 tensor(inf)\n",
      "\tGrad:  11.0 21.0 tensor(2.1894e+24)\n",
      "\tGrad:  22.0 14.0 tensor(-1.2436e+25)\n",
      "\tGrad:  33.0 64.0 tensor(2.4287e+26)\n",
      "Progress: 9 tensor(inf)\n"
     ]
    }
   ],
   "source": [
    "for epoch in range(10):\n",
    "    for x_val,y_val in zip(x_data, y_data):\n",
    "        l = loss(x_val, y_val)\n",
    "        l.backward()\n",
    "        print('\\tGrad: ',x_val, y_val, w.grad.data[0])\n",
    "        w.data = w.data - 0.01 * w.grad.data\n",
    "        w.grad.data.zero_()\n",
    "    print('Progress:',epoch, l.data[0])"
   ]
  },
  {
   "cell_type": "code",
   "execution_count": 14,
   "metadata": {},
   "outputs": [
    {
     "name": "stdout",
     "output_type": "stream",
     "text": [
      "predict before training 4 tensor(-9.2687e+24)\n"
     ]
    }
   ],
   "source": [
    "print(\"predict before training\",4,forward(4).data[0])"
   ]
  },
  {
   "cell_type": "code",
   "execution_count": 15,
   "metadata": {},
   "outputs": [
    {
     "name": "stdout",
     "output_type": "stream",
     "text": [
      "torch.Size([4, 4])\n"
     ]
    }
   ],
   "source": [
    "x = Variable(torch.Tensor(4,4).uniform_(-4,5))\n",
    "y = Variable(torch.Tensor(4,4).uniform_(-3,2))\n",
    "z = torch.mm(x,y)\n",
    "print(z.size())"
   ]
  },
  {
   "cell_type": "code",
   "execution_count": 17,
   "metadata": {},
   "outputs": [
    {
     "name": "stdout",
     "output_type": "stream",
     "text": [
      "tensor([[-2.5741, -4.2910,  1.4958,  3.3746],\n",
      "        [-0.6658, -0.3624,  1.2819, -0.7361],\n",
      "        [ 0.4200,  2.0541,  3.8482,  2.5524],\n",
      "        [ 1.2238,  4.2838, -4.4571, -3.2921]])\n"
     ]
    }
   ],
   "source": [
    "z = Variable(torch.Tensor(4,4).uniform_(-5,5))\n",
    "print(z)"
   ]
  },
  {
   "cell_type": "code",
   "execution_count": 18,
   "metadata": {},
   "outputs": [
    {
     "name": "stdout",
     "output_type": "stream",
     "text": [
      "Requires Gradient : False\n"
     ]
    },
    {
     "name": "stderr",
     "output_type": "stream",
     "text": [
      "c:\\users\\dell\\appdata\\local\\programs\\python\\python36\\lib\\site-packages\\ipykernel_launcher.py:2: UserWarning: volatile was removed (Variable.volatile is always False)\n",
      "  \n"
     ]
    },
    {
     "name": "stdout",
     "output_type": "stream",
     "text": [
      "Volatile: False\n",
      "Gradient None\n"
     ]
    }
   ],
   "source": [
    "print('Requires Gradient : %s'%(z.requires_grad))\n",
    "print('Volatile: %s'%(z.volatile))\n",
    "print('Gradient %s'%(z.grad))"
   ]
  },
  {
   "cell_type": "code",
   "execution_count": 19,
   "metadata": {},
   "outputs": [
    {
     "data": {
      "text/plain": [
       "tensor([[0.9065, 0.9649, 0.2669, 0.8926],\n",
       "        [0.4426, 0.3603, 0.4807, 0.3700],\n",
       "        [0.6377, 0.5379, 0.4975, 0.2898],\n",
       "        [0.8037, 0.1902, 0.4931, 0.8293]])"
      ]
     },
     "execution_count": 19,
     "metadata": {},
     "output_type": "execute_result"
    }
   ],
   "source": [
    "mat1= torch.FloatTensor(4,4).uniform_(0,1)\n",
    "mat1"
   ]
  },
  {
   "cell_type": "code",
   "execution_count": 20,
   "metadata": {},
   "outputs": [
    {
     "data": {
      "text/plain": [
       "tensor([[0.2335, 0.1662, 0.6329, 0.0865],\n",
       "        [0.2915, 0.9363, 0.7883, 0.9522],\n",
       "        [0.0220, 0.0298, 0.6245, 0.6771],\n",
       "        [0.2102, 0.6800, 0.5864, 0.2874],\n",
       "        [0.9668, 0.8840, 0.9142, 0.3369]])"
      ]
     },
     "execution_count": 20,
     "metadata": {},
     "output_type": "execute_result"
    }
   ],
   "source": [
    "mat2 = torch.FloatTensor(5,4).uniform_(0,1)\n",
    "mat2"
   ]
  },
  {
   "cell_type": "code",
   "execution_count": 21,
   "metadata": {},
   "outputs": [
    {
     "data": {
      "text/plain": [
       "tensor([0.5030, 0.2619, 0.9092, 0.9542])"
      ]
     },
     "execution_count": 21,
     "metadata": {},
     "output_type": "execute_result"
    }
   ],
   "source": [
    "vec1 = torch.FloatTensor(4).uniform_(0,1)\n",
    "vec1"
   ]
  },
  {
   "cell_type": "code",
   "execution_count": 22,
   "metadata": {},
   "outputs": [
    {
     "data": {
      "text/plain": [
       "tensor([[11.4065, 11.4649, 10.7669, 11.3926],\n",
       "        [10.9426, 10.8603, 10.9807, 10.8700],\n",
       "        [11.1377, 11.0379, 10.9975, 10.7898],\n",
       "        [11.3037, 10.6902, 10.9931, 11.3293]])"
      ]
     },
     "execution_count": 22,
     "metadata": {},
     "output_type": "execute_result"
    }
   ],
   "source": [
    "mat1 + 10.5"
   ]
  },
  {
   "cell_type": "code",
   "execution_count": 23,
   "metadata": {},
   "outputs": [
    {
     "data": {
      "text/plain": [
       "tensor([[ 0.0335, -0.0338,  0.4329, -0.1135],\n",
       "        [ 0.0915,  0.7363,  0.5883,  0.7522],\n",
       "        [-0.1780, -0.1702,  0.4245,  0.4771],\n",
       "        [ 0.0102,  0.4800,  0.3864,  0.0874],\n",
       "        [ 0.7668,  0.6840,  0.7142,  0.1369]])"
      ]
     },
     "execution_count": 23,
     "metadata": {},
     "output_type": "execute_result"
    }
   ],
   "source": [
    "mat2 - 0.20"
   ]
  },
  {
   "cell_type": "code",
   "execution_count": 24,
   "metadata": {},
   "outputs": [
    {
     "data": {
      "text/plain": [
       "tensor([[1.4094, 1.2268, 1.1761, 1.8468],\n",
       "        [0.9456, 0.6222, 1.3899, 1.3242],\n",
       "        [1.1407, 0.7999, 1.4067, 1.2440],\n",
       "        [1.3067, 0.4521, 1.4023, 1.7835]])"
      ]
     },
     "execution_count": 24,
     "metadata": {},
     "output_type": "execute_result"
    }
   ],
   "source": [
    "mat1+vec1"
   ]
  },
  {
   "cell_type": "code",
   "execution_count": 25,
   "metadata": {},
   "outputs": [
    {
     "data": {
      "text/plain": [
       "tensor([[0.7364, 0.4281, 1.5421, 1.0407],\n",
       "        [0.7945, 1.1983, 1.6975, 1.9064],\n",
       "        [0.5249, 0.2917, 1.5337, 1.6313],\n",
       "        [0.7132, 0.9419, 1.4956, 1.2416],\n",
       "        [1.4698, 1.1459, 1.8234, 1.2912]])"
      ]
     },
     "execution_count": 25,
     "metadata": {},
     "output_type": "execute_result"
    }
   ],
   "source": [
    "mat2+vec1"
   ]
  },
  {
   "cell_type": "code",
   "execution_count": 26,
   "metadata": {},
   "outputs": [
    {
     "ename": "RuntimeError",
     "evalue": "The size of tensor a (4) must match the size of tensor b (5) at non-singleton dimension 0",
     "output_type": "error",
     "traceback": [
      "\u001b[1;31m---------------------------------------------------------------------------\u001b[0m",
      "\u001b[1;31mRuntimeError\u001b[0m                              Traceback (most recent call last)",
      "\u001b[1;32m<ipython-input-26-bb4bbf5b2f84>\u001b[0m in \u001b[0;36m<module>\u001b[1;34m\u001b[0m\n\u001b[1;32m----> 1\u001b[1;33m \u001b[0mmat1\u001b[0m \u001b[1;33m+\u001b[0m \u001b[0mmat2\u001b[0m\u001b[1;33m\u001b[0m\u001b[1;33m\u001b[0m\u001b[0m\n\u001b[0m",
      "\u001b[1;31mRuntimeError\u001b[0m: The size of tensor a (4) must match the size of tensor b (5) at non-singleton dimension 0"
     ]
    }
   ],
   "source": [
    "mat1 + mat2"
   ]
  },
  {
   "cell_type": "code",
   "execution_count": 27,
   "metadata": {},
   "outputs": [
    {
     "data": {
      "text/plain": [
       "tensor([[0.8217, 0.9309, 0.0712, 0.7967],\n",
       "        [0.1959, 0.1298, 0.2311, 0.1369],\n",
       "        [0.4066, 0.2894, 0.2475, 0.0840],\n",
       "        [0.6459, 0.0362, 0.2432, 0.6877]])"
      ]
     },
     "execution_count": 27,
     "metadata": {},
     "output_type": "execute_result"
    }
   ],
   "source": [
    "mat1 * mat1"
   ]
  },
  {
   "cell_type": "code",
   "execution_count": 28,
   "metadata": {},
   "outputs": [],
   "source": [
    "from torch.distributions.bernoulli import Bernoulli"
   ]
  },
  {
   "cell_type": "code",
   "execution_count": 29,
   "metadata": {},
   "outputs": [],
   "source": [
    "dist = Bernoulli(torch.tensor([0.3,0.6,0.9]))\n"
   ]
  },
  {
   "cell_type": "code",
   "execution_count": 32,
   "metadata": {},
   "outputs": [
    {
     "data": {
      "text/plain": [
       "tensor([1., 0., 1.])"
      ]
     },
     "execution_count": 32,
     "metadata": {},
     "output_type": "execute_result"
    }
   ],
   "source": [
    "dist.sample()"
   ]
  },
  {
   "cell_type": "code",
   "execution_count": 33,
   "metadata": {},
   "outputs": [],
   "source": [
    "from torch.distributions.laplace import Laplace"
   ]
  },
  {
   "cell_type": "code",
   "execution_count": 34,
   "metadata": {},
   "outputs": [
    {
     "data": {
      "text/plain": [
       "Laplace(loc: tensor([10.]), scale: tensor([0.9900]))"
      ]
     },
     "execution_count": 34,
     "metadata": {},
     "output_type": "execute_result"
    }
   ],
   "source": [
    "dist = Laplace(torch.tensor([10.0]),torch.tensor([0.990]))\n",
    "dist"
   ]
  },
  {
   "cell_type": "code",
   "execution_count": 35,
   "metadata": {},
   "outputs": [
    {
     "data": {
      "text/plain": [
       "tensor([10.2443])"
      ]
     },
     "execution_count": 35,
     "metadata": {},
     "output_type": "execute_result"
    }
   ],
   "source": [
    "dist.sample()"
   ]
  },
  {
   "cell_type": "code",
   "execution_count": null,
   "metadata": {},
   "outputs": [],
   "source": []
  }
 ],
 "metadata": {
  "kernelspec": {
   "display_name": "Python 3",
   "language": "python",
   "name": "python3"
  },
  "language_info": {
   "codemirror_mode": {
    "name": "ipython",
    "version": 3
   },
   "file_extension": ".py",
   "mimetype": "text/x-python",
   "name": "python",
   "nbconvert_exporter": "python",
   "pygments_lexer": "ipython3",
   "version": "3.6.7"
  }
 },
 "nbformat": 4,
 "nbformat_minor": 2
}
